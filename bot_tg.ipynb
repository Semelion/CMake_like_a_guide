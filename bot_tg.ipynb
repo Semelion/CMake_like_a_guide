{
  "nbformat": 4,
  "nbformat_minor": 0,
  "metadata": {
    "colab": {
      "provenance": [],
      "authorship_tag": "ABX9TyOV/x9gsuU+biiOq91Kc5Jl",
      "include_colab_link": true
    },
    "kernelspec": {
      "name": "python3",
      "display_name": "Python 3"
    },
    "language_info": {
      "name": "python"
    }
  },
  "cells": [
    {
      "cell_type": "markdown",
      "metadata": {
        "id": "view-in-github",
        "colab_type": "text"
      },
      "source": [
        "<a href=\"https://colab.research.google.com/github/Semelion/CMake_like_a_guide/blob/main/bot_tg.ipynb\" target=\"_parent\"><img src=\"https://colab.research.google.com/assets/colab-badge.svg\" alt=\"Open In Colab\"/></a>"
      ]
    },
    {
      "cell_type": "code",
      "execution_count": 1,
      "metadata": {
        "colab": {
          "base_uri": "https://localhost:8080/"
        },
        "id": "rjfu6pXzItuH",
        "outputId": "378e8908-2a80-4f6c-f389-149f954a2111"
      },
      "outputs": [
        {
          "output_type": "stream",
          "name": "stdout",
          "text": [
            "Requirement already satisfied: pyTelegramBotAPI in /usr/local/lib/python3.10/dist-packages (4.24.0)\n",
            "Requirement already satisfied: requests in /usr/local/lib/python3.10/dist-packages (from pyTelegramBotAPI) (2.32.3)\n",
            "Requirement already satisfied: charset-normalizer<4,>=2 in /usr/local/lib/python3.10/dist-packages (from requests->pyTelegramBotAPI) (3.4.0)\n",
            "Requirement already satisfied: idna<4,>=2.5 in /usr/local/lib/python3.10/dist-packages (from requests->pyTelegramBotAPI) (3.10)\n",
            "Requirement already satisfied: urllib3<3,>=1.21.1 in /usr/local/lib/python3.10/dist-packages (from requests->pyTelegramBotAPI) (2.2.3)\n",
            "Requirement already satisfied: certifi>=2017.4.17 in /usr/local/lib/python3.10/dist-packages (from requests->pyTelegramBotAPI) (2024.8.30)\n"
          ]
        }
      ],
      "source": [
        "!pip install pyTelegramBotAPI"
      ]
    },
    {
      "cell_type": "code",
      "source": [
        "import telebot\n",
        "\n",
        "bot = telebot.TeleBot('8110573845:AAF6BqEwf5KMRAdsvtPieWtHpmXty3dm7jc')"
      ],
      "metadata": {
        "id": "raBXJdqyJG4E"
      },
      "execution_count": 1,
      "outputs": []
    },
    {
      "cell_type": "code",
      "source": [
        "# Обработчики команд\n",
        "\n",
        "@bot.message_handler(commands=['start'])\n",
        "def handle_start(message):\n",
        "    bot.send_message(message.chat.id, \"Здорова, брат! Я бот. Как сам?\")\n",
        "\n",
        "@bot.message_handler(commands=['review'])\n",
        "def handle_start(message):\n",
        "    bot.send_message(message.chat.id, \"Для отправки кода на ревью можно:\\n- Просто кидать архив с проектом\\n- Кинуть отдельный файл\\n- Скинуть текстом код\")\n"
      ],
      "metadata": {
        "id": "r5KJ-Cp-J-s3"
      },
      "execution_count": 2,
      "outputs": []
    },
    {
      "cell_type": "code",
      "source": [
        "# Обработчик текста и файлов\n",
        "\n",
        "@bot.message_handler(content_types=['text', 'document'])\n",
        "def handle_message(message):\n",
        "\n",
        "  # Ответ на текстовое сообщение\n",
        "  if message.text:\n",
        "      bot.send_message(message.chat.id, message.text)\n",
        "\n",
        "  #file\n",
        "  if message.document:\n",
        "      bot.send_message(message.chat.id, 'files recieved')\n",
        "      file_name = message.document.file_name\n",
        "      file_info = bot.get_file(message.document.file_id)\n",
        "      bot.send_message(message.chat.id, file_name)\n",
        "      bot.send_message(message.chat.id, message.document.mime_type)\n",
        "\n",
        "      downloaded_file = bot.download_file(file_info.file_path)\n",
        "\n",
        "      # with open(file_name, 'wb') as new_file:\n",
        "      #   new_file.write(downloaded_file)\n"
      ],
      "metadata": {
        "id": "dubofRo_RAp8"
      },
      "execution_count": 3,
      "outputs": []
    },
    {
      "cell_type": "code",
      "source": [
        "bot.polling(none_stop=True)"
      ],
      "metadata": {
        "id": "eBmpyWDpKx0E"
      },
      "execution_count": 4,
      "outputs": []
    }
  ]
}